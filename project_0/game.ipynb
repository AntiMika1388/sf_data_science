{
 "cells": [
  {
   "cell_type": "markdown",
   "metadata": {},
   "source": [
    "# Игра \"Угадай число\"\n",
    "\n",
    "Нужно написать программу, которая угадывает число за минимальное число попыток.\n",
    "\n",
    "**Условия соревнования**\n",
    "\n",
    "- Компьютер загадывает целое число от 1 до 100, и нам его нужно угадать. Под «угадать», подразумевается «написать программу, которая угадывает число».\n",
    "- Алгоритм учитывает информацию о том, больше ли случайное число или меньше нужного нам.\n",
    "\n",
    "Необходимо добиться того, чтобы программа угадывала число меньше, чем за 20 попыток.\n",
    "\n",
    "**Решение задачи:**\n",
    "\n",
    "Для реализации поиска был выбран бинарный алгоритм\n",
    "\n",
    "Импортируем библиотеку NumPy для генерации случайных чисел и расчета среднего количества попыток."
   ]
  },
  {
   "cell_type": "code",
   "execution_count": 6,
   "metadata": {},
   "outputs": [],
   "source": [
    "import numpy as np"
   ]
  },
  {
   "cell_type": "markdown",
   "metadata": {},
   "source": [
    "**реализуем бинарный алгоритм в виде функции**"
   ]
  },
  {
   "cell_type": "code",
   "execution_count": 7,
   "metadata": {},
   "outputs": [],
   "source": [
    "def binary_search(number = 1) -> int:\n",
    "    \"\"\"Реализация алгоритма инарного поиска\n",
    "    Args:\n",
    "        number (int, optional): Загаданное число. Defaults to 1.\n",
    "    Returns:\n",
    "        int: Число попыток\n",
    "    \"\"\"\n",
    "    counter = 0\n",
    "    left = 0  # нижняя граница \n",
    "    right = 100  # верхняя граница \n",
    "\n",
    "    while left <= right : \n",
    "        counter+= 1\n",
    "        predict_number = (left + right) / 2  # поиск среднего значения \n",
    "        if number < predict_number:\n",
    "            right = predict_number - 1  # изменение верхней границы\n",
    "        if number > predict_number:\n",
    "            left = predict_number + 1  # изменение нижней границы\n",
    "        if number == predict_number:\n",
    "            break  # завершение цикла при условии что числа равны\n",
    "    return counter"
   ]
  },
  {
   "cell_type": "markdown",
   "metadata": {},
   "source": [
    "**Реализация функции оценки эффективности алгоритма**\n",
    "\n",
    "Функция отражает за какое количество попыток в среднем за 1000 подходов бинарный алгоритм угадывает число."
   ]
  },
  {
   "cell_type": "code",
   "execution_count": 8,
   "metadata": {},
   "outputs": [
    {
     "name": "stdout",
     "output_type": "stream",
     "text": [
      "Ваш алгоритм угадывает число в среднем за:5 попыток\n"
     ]
    }
   ],
   "source": [
    "def score_game(binary_search) -> int:\n",
    "    \"\"\"Функция оценки эффективности\n",
    "    Args:\n",
    "        random_predict ([type]): функция угадывания\n",
    "    Returns:\n",
    "        int: среднее количество попыток\n",
    "    \"\"\"\n",
    "    count_ls = []\n",
    "    np.random.seed(1)  # фиксация сида\n",
    "    random_array = np.random.randint(1, 101, size = (1000))  # массив чисел\n",
    "\n",
    "    for numb in random_array:\n",
    "        count_ls.append(binary_search(numb))\n",
    "\n",
    "    score = int(np.mean(count_ls))\n",
    "    print(f\"Ваш алгоритм угадывает число в среднем за:{score} попыток\")\n",
    "    return score\n",
    "\n",
    "if __name__ == \"__main__\":\n",
    "    # RUN\n",
    "    score_game(binary_search)"
   ]
  },
  {
   "cell_type": "markdown",
   "metadata": {},
   "source": [
    "**Алгоритм бинарного поиска угадывает число в среднем за 5 попыток. Этот резульат удовлетворяет условию поставленной задачи**"
   ]
  }
 ],
 "metadata": {
  "interpreter": {
   "hash": "8a8894ade8c9ff13bc2b8fdad89d9743e43925954732cd50004867ebf98b01d1"
  },
  "kernelspec": {
   "display_name": "Python 3.10.0 64-bit ('sf': conda)",
   "language": "python",
   "name": "python3"
  },
  "language_info": {
   "codemirror_mode": {
    "name": "ipython",
    "version": 3
   },
   "file_extension": ".py",
   "mimetype": "text/x-python",
   "name": "python",
   "nbconvert_exporter": "python",
   "pygments_lexer": "ipython3",
   "version": "3.10.0"
  },
  "orig_nbformat": 4
 },
 "nbformat": 4,
 "nbformat_minor": 2
}
